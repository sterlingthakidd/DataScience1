{
 "cells": [
  {
   "cell_type": "code",
   "execution_count": 61,
   "id": "1d2b23c2",
   "metadata": {},
   "outputs": [
    {
     "name": "stdout",
     "output_type": "stream",
     "text": [
      "['edward Teach', 'Anne Bonny', 'John Rackham', 'CHeung Po Tsai', \"Grace O'Malley\", 'Mary Read', 'Sayyida al Hurra', 'Zheng Yi Sao', 'Francis Drake', 'Jean Lafitte']\n"
     ]
    }
   ],
   "source": [
    "dict1 = {\n",
    "    'key1':['Name','Years Active', 'Saliled','Alias'],\n",
    "    'Name':[\"edward Teach\",'Anne Bonny',\"John Rackham\", 'CHeung Po Tsai',\"Grace O'Malley\",\"Mary Read\",\"Sayyida al Hurra\",\"Zheng Yi Sao\",\"Francis Drake\",\"Jean Lafitte\"],\n",
    "    'Years Active':[\"1716-1718\",\"1718-1720\",\"1718-1720\",\"1798-1810\",\"1564-1595\",\"1801-1810\",\"1810-1823\",\"1563-1596\"],\n",
    "    'Sailed':['Caribbean','Caribbean','Caribbean'],\n",
    "    \n",
    "}\n",
    "\n",
    "print(dict1[\"Name\"][::1])\n"
   ]
  },
  {
   "cell_type": "code",
   "execution_count": 27,
   "id": "fc4b2313",
   "metadata": {},
   "outputs": [],
   "source": [
    "dict2 = {\n",
    "    \"Edward Teach\": [\"1716-1718\", \"Caribbean\",\"BlackBeard\"],\n",
    "    'Anne Bonny':[\"1718-1720\",\"Caribbean\",\"\"],\n",
    "    'John Rackham':[\"1718-1720\",\"Caribbean\",\"Calico Jack\"],\n",
    "    'Ceunhg Po Tsai':[\"1798-1810\",\"South China Sea\",\"The kid\"],\n",
    "    'Zheng Yi Sao':[\"1801-1810\",\"South China Sea\",\"Ching Shih\"],\n",
    "    'Jean Lafitte':[\"1810-1823\",\"Gulf of Mexico\",\"Terror of the Gulf\"]\n",
    "    \n",
    "}\n"
   ]
  },
  {
   "cell_type": "code",
   "execution_count": 38,
   "id": "9ad0a9a1",
   "metadata": {},
   "outputs": [
    {
     "name": "stdout",
     "output_type": "stream",
     "text": [
      "0\n"
     ]
    }
   ],
   "source": [
    "count = 0 \n",
    "for i in range(0, 6):\n",
    "    pirates = dict1['Years Active'][i]\n",
    "    if pirates == True:\n",
    "        count = count +1 \n",
    "print(count)"
   ]
  },
  {
   "cell_type": "code",
   "execution_count": 69,
   "id": "117c29fb",
   "metadata": {},
   "outputs": [
    {
     "name": "stdout",
     "output_type": "stream",
     "text": [
      "The person with the longest career:1563-1596\n"
     ]
    }
   ],
   "source": [
    "def calculate_career_duration(years):\n",
    "    career_lengths = {}  # Dictionary to store career lengths for each person\n",
    "    \n",
    "    for year_range in years:\n",
    "        start_year, end_year = map(int, year_range.split(\"-\"))\n",
    "        career_length = end_year - start_year + 1\n",
    "        \n",
    "        if year_range not in career_lengths:\n",
    "            career_lengths[year_range] = career_length\n",
    "    \n",
    "    longest_career = max(career_lengths, key=career_lengths.get)\n",
    "    return longest_career\n",
    "\n",
    "years_list = dict1['Years Active']\n",
    "longest_career = calculate_career_duration(years_list)\n",
    "print(f\"The person with the longest career:{longest_career}\")\n",
    "\n",
    "\n",
    "\n",
    "\n",
    "\n",
    "\n"
   ]
  },
  {
   "cell_type": "code",
   "execution_count": null,
   "id": "f93cdf80",
   "metadata": {},
   "outputs": [],
   "source": [
    "dict3 = {\n",
    "    \n",
    "}"
   ]
  },
  {
   "cell_type": "code",
   "execution_count": null,
   "id": "9edd371c",
   "metadata": {},
   "outputs": [],
   "source": []
  }
 ],
 "metadata": {
  "kernelspec": {
   "display_name": "Python 3 (ipykernel)",
   "language": "python",
   "name": "python3"
  },
  "language_info": {
   "codemirror_mode": {
    "name": "ipython",
    "version": 3
   },
   "file_extension": ".py",
   "mimetype": "text/x-python",
   "name": "python",
   "nbconvert_exporter": "python",
   "pygments_lexer": "ipython3",
   "version": "3.9.13"
  }
 },
 "nbformat": 4,
 "nbformat_minor": 5
}
